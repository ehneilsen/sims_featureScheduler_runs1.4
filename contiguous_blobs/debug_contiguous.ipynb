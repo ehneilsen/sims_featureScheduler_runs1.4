{
 "cells": [
  {
   "cell_type": "code",
   "execution_count": 1,
   "metadata": {},
   "outputs": [],
   "source": [
    "import numpy as np\n",
    "import matplotlib.pylab as plt\n",
    "%matplotlib inline\n",
    "from cont_blobs import *\n",
    "import lsst.sims.featureScheduler.detailers as detailers\n",
    "from lsst.sims.featureScheduler.utils import  schema_converter"
   ]
  },
  {
   "cell_type": "code",
   "execution_count": 2,
   "metadata": {},
   "outputs": [],
   "source": [
    "\n",
    "nside = 32\n",
    "per_night = True  # Dither DDF per night\n",
    "nexp = 1  # All observations\n",
    "mixed_pairs = True  # For the blob scheduler\n",
    "camera_ddf_rot_limit = 75.\n",
    "\n",
    "max_dither = 0.7\n",
    "\n",
    "dither_detailer = detailers.Dither_detailer(per_night=per_night, max_dither=max_dither)\n",
    "details = [detailers.Camera_rot_detailer(min_rot=-camera_ddf_rot_limit, max_rot=camera_ddf_rot_limit), dither_detailer]\n",
    "ddfs = generate_dd_surveys(nside=nside, nexp=nexp, detailers=details)\n",
    "\n",
    "greedy = gen_greedy_surveys(nside, nexp=nexp)\n",
    "blobs = generate_blobs(nside, nexp=nexp)\n",
    "surveys = [ddfs, blobs, greedy]"
   ]
  },
  {
   "cell_type": "code",
   "execution_count": 3,
   "metadata": {},
   "outputs": [
    {
     "name": "stderr",
     "output_type": "stream",
     "text": [
      "WARNING: ErfaWarning: ERFA function \"d2dtf\" yielded 1 of \"dubious year (Note 5)\" [astropy._erfa.core]\n",
      "WARNING: ErfaWarning: ERFA function \"utctai\" yielded 1 of \"dubious year (Note 3)\" [astropy._erfa.core]\n"
     ]
    }
   ],
   "source": [
    "scheduler = Core_scheduler(surveys, nside=nside)\n",
    "observatory = Model_observatory(nside=nside)\n",
    "\n"
   ]
  },
  {
   "cell_type": "code",
   "execution_count": 4,
   "metadata": {},
   "outputs": [],
   "source": [
    "sco = schema_converter()\n",
    "observations = sco.opsim2obs('cont_blobs_v1.4_10yrs.db')"
   ]
  },
  {
   "cell_type": "code",
   "execution_count": 17,
   "metadata": {},
   "outputs": [
    {
     "data": {
      "text/plain": [
       "array([ 841888,  841918, 1018989, 1019023, 1543808, 1543838, 1711904,\n",
       "       1711938, 1712536, 1712559])"
      ]
     },
     "execution_count": 17,
     "metadata": {},
     "output_type": "execute_result"
    }
   ],
   "source": [
    "np.where(observations['alt'] < np.radians(10))[0]"
   ]
  },
  {
   "cell_type": "code",
   "execution_count": 23,
   "metadata": {},
   "outputs": [
    {
     "data": {
      "text/plain": [
       "('blob, yy, a', 1.2393238483133215)"
      ]
     },
     "execution_count": 23,
     "metadata": {},
     "output_type": "execute_result"
    }
   ],
   "source": [
    "observations['note'][1018989], observations['RA'][1019023]"
   ]
  },
  {
   "cell_type": "code",
   "execution_count": 6,
   "metadata": {},
   "outputs": [],
   "source": [
    "# \n",
    "i = 841888-10\n",
    "for obs in observations[0:i]:\n",
    "    scheduler.add_observation(obs)"
   ]
  },
  {
   "cell_type": "code",
   "execution_count": 8,
   "metadata": {},
   "outputs": [],
   "source": [
    "# Set the observatory to the correct state. Takes a while because it has to load the sky brightness file.\n",
    "observatory.mjd = obs['mjd']\n",
    "# Observatory starts parked, so need to send an expose command to slew to the correct position\n",
    "temp = observatory.observe(obs)\n",
    "# It took some time to make that slew, so reset the time again\n",
    "observatory.mjd = obs['mjd']\n",
    "should_match_obs, new_night = observatory.observe(obs)\n",
    "should_match_obs == obs"
   ]
  },
  {
   "cell_type": "code",
   "execution_count": null,
   "metadata": {},
   "outputs": [],
   "source": []
  },
  {
   "cell_type": "code",
   "execution_count": null,
   "metadata": {},
   "outputs": [],
   "source": []
  },
  {
   "cell_type": "code",
   "execution_count": null,
   "metadata": {},
   "outputs": [],
   "source": []
  }
 ],
 "metadata": {
  "kernelspec": {
   "display_name": "Python 3",
   "language": "python",
   "name": "python3"
  },
  "language_info": {
   "codemirror_mode": {
    "name": "ipython",
    "version": 3
   },
   "file_extension": ".py",
   "mimetype": "text/x-python",
   "name": "python",
   "nbconvert_exporter": "python",
   "pygments_lexer": "ipython3",
   "version": "3.7.2"
  }
 },
 "nbformat": 4,
 "nbformat_minor": 2
}
