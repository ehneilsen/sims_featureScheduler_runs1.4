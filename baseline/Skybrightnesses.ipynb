{
 "cells": [
  {
   "cell_type": "code",
   "execution_count": 1,
   "metadata": {},
   "outputs": [],
   "source": [
    "import pandas as pd\n",
    "import sqlite3\n",
    "import numpy as np"
   ]
  },
  {
   "cell_type": "code",
   "execution_count": 2,
   "metadata": {},
   "outputs": [],
   "source": [
    "conn = sqlite3.connect('baseline_v1.4_10yrs.db')\n",
    "df = pd.read_sql('select sunAlt, moonAlt, skyBrightness, filter from summaryallprops', conn)\n",
    "conn.close()"
   ]
  },
  {
   "cell_type": "code",
   "execution_count": 3,
   "metadata": {},
   "outputs": [
    {
     "name": "stdout",
     "output_type": "stream",
     "text": [
      "moon down\n",
      "u 22.7471366248 22.3318302039\n",
      "g 22.2908915889 20.0307350523\n",
      "r 21.2312301257 19.159661035\n",
      "i 20.457867236 19.0029941836\n",
      "z 19.4535196432 18.5762199848\n",
      "y 18.6332663234 17.9066146875\n"
     ]
    }
   ],
   "source": [
    "filters='ugrizy'\n",
    "print('moon down')\n",
    "for filtername in filters:\n",
    "    good = np.where((df['sunAlt'].values < -18.) & (df['filter'] == filtername) & (df['moonAlt'].values < 0))\n",
    "    val = df['skyBrightness'].values[good]\n",
    "    print(filtername, val.max(), val.min())"
   ]
  },
  {
   "cell_type": "code",
   "execution_count": 4,
   "metadata": {},
   "outputs": [
    {
     "name": "stdout",
     "output_type": "stream",
     "text": [
      "moon up\n",
      "u 22.6691794976 22.3323912527\n",
      "g 22.2615681951 16.9911539468\n",
      "r 21.2159190707 16.8789685712\n",
      "i 20.439265027 17.0497296597\n",
      "z 19.4471199007 17.1116050989\n",
      "y 18.6221051078 17.0316856327\n"
     ]
    }
   ],
   "source": [
    "filters='ugrizy'\n",
    "print('moon up')\n",
    "for filtername in filters:\n",
    "    good = np.where((df['sunAlt'].values < -18.) & (df['filter'] == filtername) & (df['moonAlt'].values > 0))\n",
    "    val = df['skyBrightness'].values[good]\n",
    "    print(filtername, val.max(), val.min())"
   ]
  },
  {
   "cell_type": "code",
   "execution_count": 5,
   "metadata": {},
   "outputs": [
    {
     "name": "stdout",
     "output_type": "stream",
     "text": [
      "twilight\n",
      "r 21.1858981233 18.1569442363\n",
      "i 20.4010493701 17.9378465823\n",
      "z 19.4068738054 17.0302697686\n",
      "y 18.5468170525 16.5964771509\n"
     ]
    }
   ],
   "source": [
    "filters='ugrizy'\n",
    "print('twilight')\n",
    "for filtername in filters:\n",
    "    good = np.where((df['sunAlt'].values > -17.) & (df['filter'] == filtername) )[0]\n",
    "    if np.size(good) > 0:\n",
    "        val = df['skyBrightness'].values[good]\n",
    "        print(filtername, val.max(), val.min())"
   ]
  },
  {
   "cell_type": "code",
   "execution_count": 6,
   "metadata": {},
   "outputs": [
    {
     "name": "stdout",
     "output_type": "stream",
     "text": [
      "filtername, 10th percentile, 50th, 90th\n",
      "u [ 22.51976792  22.60405633  22.68682967]\n",
      "g [ 21.44136001  21.99329069  22.19307787]\n",
      "r [ 20.23608877  20.95190711  21.13471744]\n",
      "i [ 18.85040747  20.1086855   20.35696552]\n",
      "z [ 18.37970113  18.97280401  19.34637313]\n",
      "y [ 17.90601124  18.21491575  18.48194974]\n"
     ]
    }
   ],
   "source": [
    "print('filtername, 10th percentile, 50th, 90th')\n",
    "for filtername in filters:\n",
    "    good = np.where(df['filter'] == filtername)[0]\n",
    "    print(filtername, np.percentile(df['skyBrightness'].values[good], [10,50,90]))"
   ]
  },
  {
   "cell_type": "code",
   "execution_count": null,
   "metadata": {},
   "outputs": [],
   "source": []
  }
 ],
 "metadata": {
  "kernelspec": {
   "display_name": "Python 3",
   "language": "python",
   "name": "python3"
  },
  "language_info": {
   "codemirror_mode": {
    "name": "ipython",
    "version": 3
   },
   "file_extension": ".py",
   "mimetype": "text/x-python",
   "name": "python",
   "nbconvert_exporter": "python",
   "pygments_lexer": "ipython3",
   "version": "3.6.2"
  }
 },
 "nbformat": 4,
 "nbformat_minor": 2
}
