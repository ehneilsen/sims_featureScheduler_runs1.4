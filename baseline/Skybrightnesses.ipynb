{
 "cells": [
  {
   "cell_type": "code",
   "execution_count": 1,
   "metadata": {},
   "outputs": [],
   "source": [
    "import pandas as pd\n",
    "import sqlite3\n",
    "import numpy as np"
   ]
  },
  {
   "cell_type": "code",
   "execution_count": 3,
   "metadata": {},
   "outputs": [],
   "source": [
    "conn = sqlite3.connect('baseline_v1.4_10yrs.db')\n",
    "df = pd.read_sql('select sunAlt, moonAlt, skyBrightness, filter from summaryallprops', conn)\n",
    "conn.close()"
   ]
  },
  {
   "cell_type": "code",
   "execution_count": 9,
   "metadata": {},
   "outputs": [
    {
     "name": "stdout",
     "output_type": "stream",
     "text": [
      "moon down\n",
      "u 22.747018792 22.3002967683\n",
      "g 22.2909437582 19.7858291851\n",
      "r 21.231194332 19.2967847516\n",
      "i 20.4571809761 19.1762874833\n",
      "z 19.4536910675 18.576724462\n",
      "y 18.6322845356 17.8296427989\n"
     ]
    }
   ],
   "source": [
    "filters='ugrizy'\n",
    "print('moon down')\n",
    "for filtername in filters:\n",
    "    good = np.where((df['sunAlt'].values < -18.) & (df['filter'] == filtername) & (df['moonAlt'].values < 0))\n",
    "    val = df['skyBrightness'].values[good]\n",
    "    print(filtername, val.max(), val.min())"
   ]
  },
  {
   "cell_type": "code",
   "execution_count": 10,
   "metadata": {},
   "outputs": [
    {
     "name": "stdout",
     "output_type": "stream",
     "text": [
      "moon up\n",
      "u 22.6775653884 22.4052395197\n",
      "g 22.252993408 16.9570052335\n",
      "r 21.2152558255 16.8859166206\n",
      "i 20.4420030417 17.0598762619\n",
      "z 19.4429328419 17.1216560767\n",
      "y 18.6195648868 17.045019381\n"
     ]
    }
   ],
   "source": [
    "filters='ugrizy'\n",
    "print('moon up')\n",
    "for filtername in filters:\n",
    "    good = np.where((df['sunAlt'].values < -18.) & (df['filter'] == filtername) & (df['moonAlt'].values > 0))\n",
    "    val = df['skyBrightness'].values[good]\n",
    "    print(filtername, val.max(), val.min())"
   ]
  },
  {
   "cell_type": "code",
   "execution_count": 14,
   "metadata": {},
   "outputs": [
    {
     "name": "stdout",
     "output_type": "stream",
     "text": [
      "twilight\n",
      "r 21.1915561581 18.4911289799\n",
      "i 20.409151209 17.7370769377\n",
      "z 19.4042039596 17.2317402924\n",
      "y 18.5706917594 16.4727139683\n"
     ]
    }
   ],
   "source": [
    "filters='ugrizy'\n",
    "print('twilight')\n",
    "for filtername in filters:\n",
    "    good = np.where((df['sunAlt'].values > -17.) & (df['filter'] == filtername) )[0]\n",
    "    if np.size(good) > 0:\n",
    "        val = df['skyBrightness'].values[good]\n",
    "        print(filtername, val.max(), val.min())"
   ]
  },
  {
   "cell_type": "code",
   "execution_count": null,
   "metadata": {},
   "outputs": [],
   "source": []
  }
 ],
 "metadata": {
  "kernelspec": {
   "display_name": "Python 3",
   "language": "python",
   "name": "python3"
  },
  "language_info": {
   "codemirror_mode": {
    "name": "ipython",
    "version": 3
   },
   "file_extension": ".py",
   "mimetype": "text/x-python",
   "name": "python",
   "nbconvert_exporter": "python",
   "pygments_lexer": "ipython3",
   "version": "3.6.2"
  }
 },
 "nbformat": 4,
 "nbformat_minor": 2
}
