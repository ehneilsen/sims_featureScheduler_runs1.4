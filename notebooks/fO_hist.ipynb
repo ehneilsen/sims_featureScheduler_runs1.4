{
 "cells": [
  {
   "cell_type": "code",
   "execution_count": 1,
   "metadata": {},
   "outputs": [],
   "source": [
    "import numpy as np\n",
    "import matplotlib.pylab as plt\n",
    "%matplotlib inline\n",
    "import pandas as pd\n",
    "import glob\n",
    "import os\n",
    "import sqlite3\n"
   ]
  },
  {
   "cell_type": "code",
   "execution_count": 2,
   "metadata": {},
   "outputs": [],
   "source": [
    "dirs = glob.glob('/Users/yoachim/runs/all_db_ln/*/')"
   ]
  },
  {
   "cell_type": "code",
   "execution_count": 3,
   "metadata": {},
   "outputs": [],
   "source": [
    "fO = []\n",
    "teff = []\n",
    "for direc in dirs:\n",
    "    conn = sqlite3.connect(os.path.join(direc, 'resultsDb_sqlite.db'))\n",
    "    df = pd.read_sql('select summaryValue from summaryStats where summaryName=\"fONv MedianNvis\"', conn)\n",
    "    fO.append(df['summaryValue'].values)\n",
    "    df = pd.read_sql('select summaryValue from summaryStats where metricId=4', conn)\n",
    "    teff.append(df.values)\n",
    "    conn.close()\n",
    "    "
   ]
  },
  {
   "cell_type": "code",
   "execution_count": 4,
   "metadata": {},
   "outputs": [
    {
     "data": {
      "text/plain": [
       "array([  869.,   881.,   971.,   902.,   851.,   903.,   902.,   908.,\n",
       "         943.,   788.,   909.,   826.,   900.,   834.,  1141.,  1018.,\n",
       "         890.,   804.,   903.,   800.,   902.,  1073.,   902.,   902.,\n",
       "        1431.,  1177.,   848.,   911.,   908.,   903.,   769.,   900.,\n",
       "         847.,   814.,   829.,   958.,  1394.,   804.,   849.,   959.,\n",
       "        1277.,   906.,   899.,   855.,   901.,   833.,  1059.,   981.,\n",
       "        1039.,  1010.,   979.,   852.,   902.,   901.,   900.,   804.,\n",
       "         939.,   900.,   902.,   830.,   909.,   852.,   934.,   804.,\n",
       "         998.,  1126.,   751.,   960.,   725.,   919.,   853.,   813.,\n",
       "        1025.,   904.,   847.])"
      ]
     },
     "execution_count": 4,
     "metadata": {},
     "output_type": "execute_result"
    }
   ],
   "source": [
    "fO = np.array(fO).ravel()\n",
    "teff = np.array(teff).ravel()\n",
    "fO"
   ]
  },
  {
   "cell_type": "code",
   "execution_count": 5,
   "metadata": {},
   "outputs": [
    {
     "data": {
      "text/plain": [
       "<matplotlib.text.Text at 0x7ff47012a5f8>"
      ]
     },
     "execution_count": 5,
     "metadata": {},
     "output_type": "execute_result"
    },
    {
     "data": {
      "image/png": "[encoded data removed]",
      "text/plain": [
       "<matplotlib.figure.Figure at 0x7ff4c05a1ac8>"
      ]
     },
     "metadata": {},
     "output_type": "display_data"
    }
   ],
   "source": [
    "ack = plt.hist(fO, bins=10)\n",
    "plt.xlabel('fONv MedianNvis')"
   ]
  },
  {
   "cell_type": "code",
   "execution_count": 6,
   "metadata": {},
   "outputs": [
    {
     "data": {
      "text/plain": [
       "<matplotlib.text.Text at 0x7ff4c0eea828>"
      ]
     },
     "execution_count": 6,
     "metadata": {},
     "output_type": "execute_result"
    },
    {
     "data": {
      "image/png": "[encoded data removed]",
      "text/plain": [
       "<matplotlib.figure.Figure at 0x7ff4780e3b38>"
      ]
     },
     "metadata": {},
     "output_type": "display_data"
    }
   ],
   "source": [
    "plt.plot(teff, fO, 'ko')\n",
    "plt.xlabel('teff')\n",
    "plt.ylabel('fONv MedianNvis')"
   ]
  },
  {
   "cell_type": "code",
   "execution_count": 7,
   "metadata": {},
   "outputs": [],
   "source": [
    "dirs=np.array(dirs)"
   ]
  },
  {
   "cell_type": "code",
   "execution_count": 8,
   "metadata": {},
   "outputs": [
    {
     "data": {
      "text/plain": [
       "array(['/Users/yoachim/runs/all_db_ln/short_exp_5ns_5expt_v1.4_10yrs/',\n",
       "       '/Users/yoachim/runs/all_db_ln/short_exp_5ns_1expt_v1.4_10yrs/',\n",
       "       '/Users/yoachim/runs/all_db_ln/twilight_neo_mod1_v1.4_10yrs/'],\n",
       "      dtype='<U69')"
      ]
     },
     "execution_count": 8,
     "metadata": {},
     "output_type": "execute_result"
    }
   ],
   "source": [
    "dirs[np.where(teff < 0.4)]"
   ]
  },
  {
   "cell_type": "code",
   "execution_count": 9,
   "metadata": {},
   "outputs": [
    {
     "data": {
      "text/plain": [
       "array(['/Users/yoachim/runs/all_db_ln/footprint_stuck_rollingv1.4_10yrs/',\n",
       "       '/Users/yoachim/runs/all_db_ln/weather_1.2_ndt_v1.4_10yrs/',\n",
       "       '/Users/yoachim/runs/all_db_ln/weather_1.2_v1.4_10yrs/'],\n",
       "      dtype='<U69')"
      ]
     },
     "execution_count": 9,
     "metadata": {},
     "output_type": "execute_result"
    }
   ],
   "source": [
    "dirs[np.where(fO > 1200)]"
   ]
  },
  {
   "cell_type": "code",
   "execution_count": null,
   "metadata": {},
   "outputs": [],
   "source": []
  }
 ],
 "metadata": {
  "kernelspec": {
   "display_name": "Python 3",
   "language": "python",
   "name": "python3"
  },
  "language_info": {
   "codemirror_mode": {
    "name": "ipython",
    "version": 3
   },
   "file_extension": ".py",
   "mimetype": "text/x-python",
   "name": "python",
   "nbconvert_exporter": "python",
   "pygments_lexer": "ipython3",
   "version": "3.6.2"
  }
 },
 "nbformat": 4,
 "nbformat_minor": 2
}
