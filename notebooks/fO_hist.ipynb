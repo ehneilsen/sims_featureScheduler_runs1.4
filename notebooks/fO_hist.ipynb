{
 "cells": [
  {
   "cell_type": "code",
   "execution_count": 1,
   "metadata": {},
   "outputs": [],
   "source": [
    "import numpy as np\n",
    "import matplotlib.pylab as plt\n",
    "%matplotlib inline\n",
    "import pandas as pd\n",
    "import glob\n",
    "import os\n",
    "import sqlite3\n"
   ]
  },
  {
   "cell_type": "code",
   "execution_count": 2,
   "metadata": {},
   "outputs": [],
   "source": [
    "dirs = glob.glob('/Users/yoachim/runs/all_db_ln/*/')\n",
    "names = [direc.split('/')[-2] for direc in dirs]\n",
    "order = np.argsort(names)\n",
    "d2 = [dirs[i] for i in order]\n",
    "dirs = d2"
   ]
  },
  {
   "cell_type": "code",
   "execution_count": 3,
   "metadata": {},
   "outputs": [],
   "source": [
    "fO = []\n",
    "teff = []\n",
    "for direc in dirs:\n",
    "    conn = sqlite3.connect(os.path.join(direc, 'resultsDb_sqlite.db'))\n",
    "    df = pd.read_sql('select summaryValue from summaryStats where summaryName=\"fONv MedianNvis\"', conn)\n",
    "    fO.append(df['summaryValue'].values)\n",
    "    df = pd.read_sql('select summaryValue from summaryStats where metricId=4', conn)\n",
    "    teff.append(df.values)\n",
    "    conn.close()\n",
    "    "
   ]
  },
  {
   "cell_type": "code",
   "execution_count": null,
   "metadata": {},
   "outputs": [],
   "source": []
  },
  {
   "cell_type": "code",
   "execution_count": 4,
   "metadata": {},
   "outputs": [
    {
     "name": "stdout",
     "output_type": "stream",
     "text": [
      "943.0 agnddf_v1.4_10yrs\n",
      "833.0 alt_roll_mod2_dust_sdf_0.20_v1.4_10yrs\n",
      "830.0 baseline_2snapsv1.4_10yrs\n",
      "900.0 baseline_v1.4_10yrs\n",
      "814.0 bulges_bs_v1.4_10yrs\n",
      "804.0 bulges_bulge_wfd_v1.4_10yrs\n",
      "813.0 bulges_cadence_bs_v1.4_10yrs\n",
      "804.0 bulges_cadence_bulge_wfd_v1.4_10yrs\n",
      "804.0 bulges_cadence_i_heavy_v1.4_10yrs\n",
      "804.0 bulges_i_heavy_v1.4_10yrs\n",
      "900.0 dcr_nham1_v1.4_10yrs\n",
      "902.0 dcr_nham2_v1.4_10yrs\n",
      "904.0 dcr_nham3_v1.4_10yrs\n",
      "906.0 dcr_nham4_v1.4_10yrs\n",
      "908.0 dcr_nham5_v1.4_10yrs\n",
      "934.0 descddf_v1.4_10yrs\n",
      "900.0 euclidddf_v1.4_10yrs\n",
      "890.0 footprint_add_mag_cloudsv1.4_10yrs\n",
      "902.0 footprint_big_sky_dustv1.4_10yrs\n",
      "979.0 footprint_big_sky_nouiyv1.4_10yrs\n",
      "958.0 footprint_big_skyv1.4_10yrs\n",
      "903.0 footprint_bluer_footprintv1.4_10yrs\n",
      "848.0 footprint_gp_smoothv1.4_10yrs\n",
      "725.0 footprint_newAv1.4_10yrs\n",
      "788.0 footprint_newBv1.4_10yrs\n",
      "911.0 footprint_no_gp_northv1.4_10yrs\n",
      "902.0 footprint_standard_goalsv1.4_10yrs\n",
      "1431.0 footprint_stuck_rollingv1.4_10yrs\n",
      "909.0 pair_strategy_0_v1.4_10yrs\n",
      "899.0 pair_strategy_1_v1.4_10yrs\n",
      "908.0 pair_strategy_2_v1.4_10yrs\n",
      "909.0 pair_strategy_3_v1.4_10yrs\n",
      "901.0 pair_strategy_4_v1.4_10yrs\n",
      "829.0 roll_mod2_dust_sdf_0.20_v1.4_10yrs\n",
      "898.0 rolling_mod2_sdf_0.10_v1.4_10yrs\n",
      "897.0 rolling_mod2_sdf_0.20_v1.4_10yrs\n",
      "900.0 rolling_mod3_sdf_0.10_v1.4_10yrs\n",
      "899.0 rolling_mod3_sdf_0.20_v1.4_10yrs\n",
      "894.0 rolling_mod6_sdf_0.10_v1.4_10yrs\n",
      "896.0 rolling_mod6_sdf_0.20_v1.4_10yrs\n",
      "1025.0 short_exp_2ns_1expt_v1.4_10yrs\n",
      "1010.0 short_exp_2ns_5expt_v1.4_10yrs\n",
      "1177.0 short_exp_5ns_1expt_v1.4_10yrs\n",
      "1141.0 short_exp_5ns_5expt_v1.4_10yrs\n",
      "903.0 spiders_v1.4_10yrs\n",
      "903.0 twi_filters_1_v1.4_10yrs\n",
      "900.0 twi_filters_2_v1.4_10yrs\n",
      "902.0 twi_filters_3_v1.4_10yrs\n",
      "902.0 twi_filters_4_v1.4_10yrs\n",
      "902.0 twi_filters_5_v1.4_10yrs\n",
      "1126.0 twilight_neo_mod1_v1.4_10yrs\n",
      "1018.0 twilight_neo_mod2_v1.4_10yrs\n",
      "981.0 twilight_neo_mod3_v1.4_10yrs\n",
      "960.0 twilight_neo_mod4_v1.4_10yrs\n",
      "851.0 var_expt_v1.4_10yrs\n",
      "902.0 weather_0.3_v1.4_10yrs\n",
      "1059.0 weather_0.7_v1.4_10yrs\n",
      "1394.0 weather_1.2_ndt_v1.4_10yrs\n",
      "1277.0 weather_1.2_v1.4_10yrs\n",
      "826.0 wfd_depth_scale0.65_noddf_v1.4_10yrs\n",
      "751.0 wfd_depth_scale0.65_v1.4_10yrs\n",
      "847.0 wfd_depth_scale0.70_noddf_v1.4_10yrs\n",
      "769.0 wfd_depth_scale0.70_v1.4_10yrs\n",
      "881.0 wfd_depth_scale0.75_noddf_v1.4_10yrs\n",
      "800.0 wfd_depth_scale0.75_v1.4_10yrs\n",
      "919.0 wfd_depth_scale0.80_noddf_v1.4_10yrs\n",
      "834.0 wfd_depth_scale0.80_v1.4_10yrs\n",
      "959.0 wfd_depth_scale0.85_noddf_v1.4_10yrs\n",
      "869.0 wfd_depth_scale0.85_v1.4_10yrs\n",
      "998.0 wfd_depth_scale0.90_noddf_v1.4_10yrs\n",
      "901.0 wfd_depth_scale0.90_v1.4_10yrs\n",
      "1039.0 wfd_depth_scale0.95_noddf_v1.4_10yrs\n",
      "939.0 wfd_depth_scale0.95_v1.4_10yrs\n",
      "1073.0 wfd_depth_scale0.99_noddf_v1.4_10yrs\n",
      "971.0 wfd_depth_scale0.99_v1.4_10yrs\n"
     ]
    }
   ],
   "source": [
    "fO = np.array(fO).ravel()\n",
    "teff = np.array(teff).ravel()\n",
    "for val,direc in zip(fO, dirs):\n",
    "    print(val, direc.split('/')[-2])"
   ]
  },
  {
   "cell_type": "code",
   "execution_count": 5,
   "metadata": {},
   "outputs": [
    {
     "data": {
      "text/plain": [
       "<matplotlib.text.Text at 0x7fe8f07119b0>"
      ]
     },
     "execution_count": 5,
     "metadata": {},
     "output_type": "execute_result"
    },
    {
     "data": {
      "image/png": "[encoded data removed]",
      "text/plain": [
       "<matplotlib.figure.Figure at 0x7fe8d0b40fd0>"
      ]
     },
     "metadata": {},
     "output_type": "display_data"
    }
   ],
   "source": [
    "ack = plt.hist(fO, bins=10)\n",
    "plt.xlabel('fONv MedianNvis')"
   ]
  },
  {
   "cell_type": "code",
   "execution_count": 6,
   "metadata": {},
   "outputs": [
    {
     "data": {
      "text/plain": [
       "<matplotlib.text.Text at 0x7fe8c065ec88>"
      ]
     },
     "execution_count": 6,
     "metadata": {},
     "output_type": "execute_result"
    },
    {
     "data": {
      "image/png": "[encoded data removed]",
      "text/plain": [
       "<matplotlib.figure.Figure at 0x7fe8f11e3b00>"
      ]
     },
     "metadata": {},
     "output_type": "display_data"
    }
   ],
   "source": [
    "ack = plt.hist(fO/825, bins=20)\n",
    "plt.xlabel('fONv MedianNvis/825')"
   ]
  },
  {
   "cell_type": "code",
   "execution_count": 7,
   "metadata": {},
   "outputs": [
    {
     "data": {
      "text/plain": [
       "<matplotlib.lines.Line2D at 0x7fe8c06ffd30>"
      ]
     },
     "execution_count": 7,
     "metadata": {},
     "output_type": "execute_result"
    },
    {
     "data": {
      "image/png": "[encoded data removed]",
      "text/plain": [
       "<matplotlib.figure.Figure at 0x7fe8f1271b00>"
      ]
     },
     "metadata": {},
     "output_type": "display_data"
    }
   ],
   "source": [
    "plt.plot(teff, fO, 'ko')\n",
    "plt.xlabel('teff')\n",
    "plt.ylabel('fONv MedianNvis')\n",
    "plt.axhline(825)"
   ]
  },
  {
   "cell_type": "code",
   "execution_count": 8,
   "metadata": {},
   "outputs": [],
   "source": [
    "dirs=np.array(dirs)"
   ]
  },
  {
   "cell_type": "code",
   "execution_count": 9,
   "metadata": {},
   "outputs": [
    {
     "data": {
      "text/plain": [
       "array(['/Users/yoachim/runs/all_db_ln/short_exp_5ns_1expt_v1.4_10yrs/',\n",
       "       '/Users/yoachim/runs/all_db_ln/short_exp_5ns_5expt_v1.4_10yrs/',\n",
       "       '/Users/yoachim/runs/all_db_ln/twilight_neo_mod1_v1.4_10yrs/'],\n",
       "      dtype='<U69')"
      ]
     },
     "execution_count": 9,
     "metadata": {},
     "output_type": "execute_result"
    }
   ],
   "source": [
    "dirs[np.where(teff < 0.4)]"
   ]
  },
  {
   "cell_type": "code",
   "execution_count": 10,
   "metadata": {},
   "outputs": [
    {
     "data": {
      "text/plain": [
       "array(['/Users/yoachim/runs/all_db_ln/footprint_stuck_rollingv1.4_10yrs/',\n",
       "       '/Users/yoachim/runs/all_db_ln/weather_1.2_ndt_v1.4_10yrs/',\n",
       "       '/Users/yoachim/runs/all_db_ln/weather_1.2_v1.4_10yrs/'],\n",
       "      dtype='<U69')"
      ]
     },
     "execution_count": 10,
     "metadata": {},
     "output_type": "execute_result"
    }
   ],
   "source": [
    "dirs[np.where(fO > 1200)]"
   ]
  },
  {
   "cell_type": "code",
   "execution_count": null,
   "metadata": {},
   "outputs": [],
   "source": []
  }
 ],
 "metadata": {
  "kernelspec": {
   "display_name": "Python 3",
   "language": "python",
   "name": "python3"
  },
  "language_info": {
   "codemirror_mode": {
    "name": "ipython",
    "version": 3
   },
   "file_extension": ".py",
   "mimetype": "text/x-python",
   "name": "python",
   "nbconvert_exporter": "python",
   "pygments_lexer": "ipython3",
   "version": "3.6.2"
  }
 },
 "nbformat": 4,
 "nbformat_minor": 2
}
