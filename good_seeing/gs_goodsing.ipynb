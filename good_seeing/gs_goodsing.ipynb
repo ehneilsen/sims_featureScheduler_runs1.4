{
 "cells": [
  {
   "cell_type": "code",
   "execution_count": 1,
   "metadata": {},
   "outputs": [],
   "source": [
    "%matplotlib inline\n",
    "import numpy as np\n",
    "import matplotlib.pyplot as plt\n",
    "import healpy as hp\n",
    "\n",
    "import lsst.sims.maf.db as db\n",
    "import lsst.sims.maf.utils as utils\n",
    "import lsst.sims.maf.metrics as metrics\n",
    "import lsst.sims.maf.slicers as slicers\n",
    "import lsst.sims.maf.stackers as stackers\n",
    "import lsst.sims.maf.metricBundles as metricBundles\n",
    "import glob"
   ]
  },
  {
   "cell_type": "code",
   "execution_count": null,
   "metadata": {},
   "outputs": [],
   "source": []
  },
  {
   "cell_type": "code",
   "execution_count": 2,
   "metadata": {},
   "outputs": [
    {
     "name": "stdout",
     "output_type": "stream",
     "text": [
      "Healpix slicer using NSIDE=128, approximate resolution 27.483891 arcminutes\n",
      "Healpix slicer using NSIDE=128, approximate resolution 27.483891 arcminutes\n",
      "Healpix slicer using NSIDE=128, approximate resolution 27.483891 arcminutes\n",
      "Healpix slicer using NSIDE=128, approximate resolution 27.483891 arcminutes\n",
      "Healpix slicer using NSIDE=128, approximate resolution 27.483891 arcminutes\n",
      "Healpix slicer using NSIDE=128, approximate resolution 27.483891 arcminutes\n",
      "Healpix slicer using NSIDE=128, approximate resolution 27.483891 arcminutes\n",
      "Healpix slicer using NSIDE=128, approximate resolution 27.483891 arcminutes\n",
      "Healpix slicer using NSIDE=128, approximate resolution 27.483891 arcminutes\n",
      "Healpix slicer using NSIDE=128, approximate resolution 27.483891 arcminutes\n",
      "Healpix slicer using NSIDE=128, approximate resolution 27.483891 arcminutes\n",
      "Healpix slicer using NSIDE=128, approximate resolution 27.483891 arcminutes\n",
      "Querying database SummaryAllProps with constraint filter=\"y\" for columns ['fieldRA', 'fieldDec', 'fiveSigmaDepth']\n",
      "Found 424049 visits\n",
      "Running:  ['opsim_CoaddM5_y_HEAL']\n",
      "Completed metric generation.\n",
      "Running reduce methods.\n",
      "Running summary statistics.\n",
      "Completed.\n"
     ]
    },
    {
     "name": "stderr",
     "output_type": "stream",
     "text": [
      "/Users/yoachim/gitRepos/sims_maf/python/lsst/sims/maf/utils/mafUtils.py:58: UserWarning: Optimal bin calculation tried to make 572 bins, returning 200\n",
      "  warnings.warn('Optimal bin calculation tried to make %.0f bins, returning %i'%(nbins, nbinMax))\n"
     ]
    },
    {
     "name": "stdout",
     "output_type": "stream",
     "text": [
      "monopole: 24.6562  dipole: lon: 111.736, lat: -0.104569, amp: 0.239303\n",
      "Plotting complete.\n",
      "Deleted metricValues from memory.\n",
      "Querying database SummaryAllProps with constraint filter=\"u\" and seeingFwhmEff <= 0.7 and sunAlt < -18 for columns ['fieldRA', 'fieldDec', 'fiveSigmaDepth']\n",
      "Found 940 visits\n",
      "Running:  ['opsim_gs_coaddM5_u_and_seeingFwhmEff_lt_0_7_and_sunAlt_lt_-18_HEAL']\n",
      "Completed metric generation.\n",
      "Running reduce methods.\n",
      "Running summary statistics.\n",
      "Completed.\n",
      "monopole: 24.2936  dipole: lon: 74.7448, lat: -69.703, amp: 0.0571329\n",
      "Plotting complete.\n",
      "Deleted metricValues from memory.\n",
      "Querying database SummaryAllProps with constraint filter=\"g\" and seeingFwhmEff <= 0.7 and sunAlt < -18 for columns ['fieldRA', 'fieldDec', 'fiveSigmaDepth']\n",
      "Found 10279 visits\n",
      "Running:  ['opsim_gs_coaddM5_g_and_seeingFwhmEff_lt_0_7_and_sunAlt_lt_-18_HEAL']\n",
      "Completed metric generation.\n",
      "Running reduce methods.\n",
      "Running summary statistics.\n",
      "Completed.\n",
      "monopole: 25.3916  dipole: lon: 109.96, lat: -44.7225, amp: 0.352141\n",
      "Plotting complete.\n",
      "Deleted metricValues from memory.\n",
      "Querying database SummaryAllProps with constraint filter=\"y\" and seeingFwhmEff <= 0.7 and sunAlt < -18 for columns ['fieldRA', 'fieldDec', 'fiveSigmaDepth']\n",
      "Found 18371 visits\n",
      "Running:  ['opsim_gs_coaddM5_y_and_seeingFwhmEff_lt_0_7_and_sunAlt_lt_-18_HEAL']\n",
      "Completed metric generation.\n",
      "Running reduce methods.\n",
      "Running summary statistics.\n",
      "Completed.\n",
      "monopole: 23.2707  dipole: lon: 121.805, lat: -30.8563, amp: 0.425459\n",
      "Plotting complete.\n",
      "Deleted metricValues from memory.\n",
      "Querying database SummaryAllProps with constraint filter=\"r\" for columns ['fieldRA', 'fieldDec', 'fiveSigmaDepth']\n",
      "Found 475582 visits\n",
      "Running:  ['opsim_CoaddM5_r_HEAL']\n",
      "Completed metric generation.\n",
      "Running reduce methods.\n",
      "Running summary statistics.\n",
      "Completed.\n"
     ]
    },
    {
     "name": "stderr",
     "output_type": "stream",
     "text": [
      "/Users/yoachim/gitRepos/sims_maf/python/lsst/sims/maf/utils/mafUtils.py:58: UserWarning: Optimal bin calculation tried to make 219 bins, returning 200\n",
      "  warnings.warn('Optimal bin calculation tried to make %.0f bins, returning %i'%(nbins, nbinMax))\n"
     ]
    },
    {
     "name": "stdout",
     "output_type": "stream",
     "text": [
      "monopole: 26.4927  dipole: lon: 115.564, lat: -71.6501, amp: 0.440596\n",
      "Plotting complete.\n",
      "Deleted metricValues from memory.\n",
      "Querying database SummaryAllProps with constraint filter=\"z\" and seeingFwhmEff <= 0.7 and sunAlt < -18 for columns ['fieldRA', 'fieldDec', 'fiveSigmaDepth']\n",
      "Found 30991 visits\n",
      "Running:  ['opsim_gs_coaddM5_z_and_seeingFwhmEff_lt_0_7_and_sunAlt_lt_-18_HEAL']\n",
      "Completed metric generation.\n",
      "Running reduce methods.\n",
      "Running summary statistics.\n",
      "Completed.\n",
      "monopole: 24.1721  dipole: lon: 129.286, lat: -57.6812, amp: 0.549444\n",
      "Plotting complete.\n",
      "Deleted metricValues from memory.\n",
      "Querying database SummaryAllProps with constraint filter=\"r\" and seeingFwhmEff <= 0.7 and sunAlt < -18 for columns ['fieldRA', 'fieldDec', 'fiveSigmaDepth']\n",
      "Found 23774 visits\n",
      "Running:  ['opsim_gs_coaddM5_r_and_seeingFwhmEff_lt_0_7_and_sunAlt_lt_-18_HEAL']\n",
      "Completed metric generation.\n",
      "Running reduce methods.\n",
      "Running summary statistics.\n",
      "Completed.\n",
      "monopole: 25.3285  dipole: lon: 125.994, lat: -56.6557, amp: 0.496\n",
      "Plotting complete.\n",
      "Deleted metricValues from memory.\n",
      "Querying database SummaryAllProps with constraint filter=\"z\" for columns ['fieldRA', 'fieldDec', 'fiveSigmaDepth']\n",
      "Found 446986 visits\n",
      "Running:  ['opsim_CoaddM5_z_HEAL']\n",
      "Completed metric generation.\n",
      "Running reduce methods.\n",
      "Running summary statistics.\n",
      "Completed.\n"
     ]
    },
    {
     "name": "stderr",
     "output_type": "stream",
     "text": [
      "/Users/yoachim/gitRepos/sims_maf/python/lsst/sims/maf/utils/mafUtils.py:58: UserWarning: Optimal bin calculation tried to make 239 bins, returning 200\n",
      "  warnings.warn('Optimal bin calculation tried to make %.0f bins, returning %i'%(nbins, nbinMax))\n"
     ]
    },
    {
     "name": "stdout",
     "output_type": "stream",
     "text": [
      "monopole: 25.2615  dipole: lon: 123.878, lat: -73.3008, amp: 0.43658\n",
      "Plotting complete.\n",
      "Deleted metricValues from memory.\n",
      "Querying database SummaryAllProps with constraint filter=\"u\" for columns ['fieldRA', 'fieldDec', 'fiveSigmaDepth']\n",
      "Found 142078 visits\n",
      "Running:  ['opsim_CoaddM5_u_HEAL']\n",
      "Completed metric generation.\n",
      "Running reduce methods.\n",
      "Running summary statistics.\n",
      "Completed.\n"
     ]
    },
    {
     "name": "stderr",
     "output_type": "stream",
     "text": [
      "/Users/yoachim/gitRepos/sims_maf/python/lsst/sims/maf/utils/mafUtils.py:58: UserWarning: Optimal bin calculation tried to make 537 bins, returning 200\n",
      "  warnings.warn('Optimal bin calculation tried to make %.0f bins, returning %i'%(nbins, nbinMax))\n"
     ]
    },
    {
     "name": "stdout",
     "output_type": "stream",
     "text": [
      "monopole: 25.6539  dipole: lon: 106.175, lat: -28.0188, amp: 0.194405\n",
      "Plotting complete.\n",
      "Deleted metricValues from memory.\n",
      "Querying database SummaryAllProps with constraint filter=\"i\" for columns ['fieldRA', 'fieldDec', 'fiveSigmaDepth']\n",
      "Found 479554 visits\n",
      "Running:  ['opsim_CoaddM5_i_HEAL']\n",
      "Completed metric generation.\n",
      "Running reduce methods.\n",
      "Running summary statistics.\n",
      "Completed.\n"
     ]
    },
    {
     "name": "stderr",
     "output_type": "stream",
     "text": [
      "/Users/yoachim/gitRepos/sims_maf/python/lsst/sims/maf/utils/mafUtils.py:58: UserWarning: Optimal bin calculation tried to make 235 bins, returning 200\n",
      "  warnings.warn('Optimal bin calculation tried to make %.0f bins, returning %i'%(nbins, nbinMax))\n"
     ]
    },
    {
     "name": "stdout",
     "output_type": "stream",
     "text": [
      "monopole: 25.9795  dipole: lon: 124.05, lat: -71.2506, amp: 0.402598\n",
      "Plotting complete.\n",
      "Deleted metricValues from memory.\n",
      "Querying database SummaryAllProps with constraint filter=\"g\" for columns ['fieldRA', 'fieldDec', 'fiveSigmaDepth']\n",
      "Found 210697 visits\n",
      "Running:  ['opsim_CoaddM5_g_HEAL']\n",
      "Completed metric generation.\n",
      "Running reduce methods.\n",
      "Running summary statistics.\n",
      "Completed.\n"
     ]
    },
    {
     "name": "stderr",
     "output_type": "stream",
     "text": [
      "/Users/yoachim/gitRepos/sims_maf/python/lsst/sims/maf/utils/mafUtils.py:58: UserWarning: Optimal bin calculation tried to make 248 bins, returning 200\n",
      "  warnings.warn('Optimal bin calculation tried to make %.0f bins, returning %i'%(nbins, nbinMax))\n"
     ]
    },
    {
     "name": "stdout",
     "output_type": "stream",
     "text": [
      "monopole: 26.5308  dipole: lon: 117.382, lat: -78.4865, amp: 0.501613\n",
      "Plotting complete.\n",
      "Deleted metricValues from memory.\n",
      "Querying database SummaryAllProps with constraint filter=\"i\" and seeingFwhmEff <= 0.7 and sunAlt < -18 for columns ['fieldRA', 'fieldDec', 'fiveSigmaDepth']\n",
      "Found 34663 visits\n",
      "Running:  ['opsim_gs_coaddM5_i_and_seeingFwhmEff_lt_0_7_and_sunAlt_lt_-18_HEAL']\n",
      "Completed metric generation.\n",
      "Running reduce methods.\n",
      "Running summary statistics.\n",
      "Completed.\n",
      "monopole: 24.92  dipole: lon: 132.748, lat: -61.1377, amp: 0.484512\n",
      "Plotting complete.\n",
      "Deleted metricValues from memory.\n",
      "Healpix slicer using NSIDE=128, approximate resolution 27.483891 arcminutes\n",
      "Healpix slicer using NSIDE=128, approximate resolution 27.483891 arcminutes\n",
      "Healpix slicer using NSIDE=128, approximate resolution 27.483891 arcminutes\n",
      "Healpix slicer using NSIDE=128, approximate resolution 27.483891 arcminutes\n",
      "Healpix slicer using NSIDE=128, approximate resolution 27.483891 arcminutes\n",
      "Healpix slicer using NSIDE=128, approximate resolution 27.483891 arcminutes\n",
      "Healpix slicer using NSIDE=128, approximate resolution 27.483891 arcminutes\n",
      "Healpix slicer using NSIDE=128, approximate resolution 27.483891 arcminutes\n",
      "Healpix slicer using NSIDE=128, approximate resolution 27.483891 arcminutes\n",
      "Healpix slicer using NSIDE=128, approximate resolution 27.483891 arcminutes\n",
      "Healpix slicer using NSIDE=128, approximate resolution 27.483891 arcminutes\n",
      "Healpix slicer using NSIDE=128, approximate resolution 27.483891 arcminutes\n",
      "Querying database SummaryAllProps with constraint filter=\"y\" for columns ['fieldRA', 'fieldDec', 'fiveSigmaDepth']\n",
      "Found 424731 visits\n",
      "Running:  ['opsim_CoaddM5_y_HEAL']\n",
      "Completed metric generation.\n",
      "Running reduce methods.\n",
      "Running summary statistics.\n",
      "Completed.\n"
     ]
    },
    {
     "name": "stderr",
     "output_type": "stream",
     "text": [
      "/Users/yoachim/gitRepos/sims_maf/python/lsst/sims/maf/utils/mafUtils.py:58: UserWarning: Optimal bin calculation tried to make 546 bins, returning 200\n",
      "  warnings.warn('Optimal bin calculation tried to make %.0f bins, returning %i'%(nbins, nbinMax))\n"
     ]
    },
    {
     "name": "stdout",
     "output_type": "stream",
     "text": [
      "monopole: 24.6621  dipole: lon: 113.715, lat: 0.181204, amp: 0.242831\n",
      "Plotting complete.\n",
      "Deleted metricValues from memory.\n",
      "Querying database SummaryAllProps with constraint filter=\"u\" and seeingFwhmEff <= 0.7 and sunAlt < -18 for columns ['fieldRA', 'fieldDec', 'fiveSigmaDepth']\n",
      "Found 662 visits\n",
      "Running:  ['opsim_gs_coaddM5_u_and_seeingFwhmEff_lt_0_7_and_sunAlt_lt_-18_HEAL']\n",
      "Completed metric generation.\n",
      "Running reduce methods.\n",
      "Running summary statistics.\n",
      "Completed.\n",
      "monopole: 24.3366  dipole: lon: 12.5231, lat: 32.3187, amp: 0.0631427\n",
      "Plotting complete.\n",
      "Deleted metricValues from memory.\n",
      "Querying database SummaryAllProps with constraint filter=\"g\" and seeingFwhmEff <= 0.7 and sunAlt < -18 for columns ['fieldRA', 'fieldDec', 'fiveSigmaDepth']\n",
      "Found 1713 visits\n",
      "Running:  ['opsim_gs_coaddM5_g_and_seeingFwhmEff_lt_0_7_and_sunAlt_lt_-18_HEAL']\n",
      "Completed metric generation.\n",
      "Running reduce methods.\n",
      "Running summary statistics.\n",
      "Completed.\n",
      "monopole: 25.1397  dipole: lon: 72.8677, lat: -55.0528, amp: 0.211297\n",
      "Plotting complete.\n",
      "Deleted metricValues from memory.\n",
      "Querying database SummaryAllProps with constraint filter=\"y\" and seeingFwhmEff <= 0.7 and sunAlt < -18 for columns ['fieldRA', 'fieldDec', 'fiveSigmaDepth']\n",
      "Found 18799 visits\n",
      "Running:  ['opsim_gs_coaddM5_y_and_seeingFwhmEff_lt_0_7_and_sunAlt_lt_-18_HEAL']\n",
      "Completed metric generation.\n",
      "Running reduce methods.\n",
      "Running summary statistics.\n",
      "Completed.\n",
      "monopole: 23.2479  dipole: lon: 125.267, lat: -37.2905, amp: 0.504571\n",
      "Plotting complete.\n",
      "Deleted metricValues from memory.\n",
      "Querying database SummaryAllProps with constraint filter=\"r\" for columns ['fieldRA', 'fieldDec', 'fiveSigmaDepth']\n",
      "Found 475538 visits\n",
      "Running:  ['opsim_CoaddM5_r_HEAL']\n",
      "Completed metric generation.\n",
      "Running reduce methods.\n",
      "Running summary statistics.\n",
      "Completed.\n"
     ]
    },
    {
     "name": "stderr",
     "output_type": "stream",
     "text": [
      "/Users/yoachim/gitRepos/sims_maf/python/lsst/sims/maf/utils/mafUtils.py:58: UserWarning: Optimal bin calculation tried to make 229 bins, returning 200\n",
      "  warnings.warn('Optimal bin calculation tried to make %.0f bins, returning %i'%(nbins, nbinMax))\n"
     ]
    },
    {
     "name": "stdout",
     "output_type": "stream",
     "text": [
      "monopole: 26.4977  dipole: lon: 116.012, lat: -70.7827, amp: 0.43705\n",
      "Plotting complete.\n",
      "Deleted metricValues from memory.\n",
      "Querying database SummaryAllProps with constraint filter=\"z\" and seeingFwhmEff <= 0.7 and sunAlt < -18 for columns ['fieldRA', 'fieldDec', 'fiveSigmaDepth']\n",
      "Found 38681 visits\n",
      "Running:  ['opsim_gs_coaddM5_z_and_seeingFwhmEff_lt_0_7_and_sunAlt_lt_-18_HEAL']\n",
      "Completed metric generation.\n",
      "Running reduce methods.\n",
      "Running summary statistics.\n",
      "Completed.\n",
      "monopole: 24.3688  dipole: lon: 141.854, lat: -46.5282, amp: 0.419776\n",
      "Plotting complete.\n",
      "Deleted metricValues from memory.\n",
      "Querying database SummaryAllProps with constraint filter=\"r\" and seeingFwhmEff <= 0.7 and sunAlt < -18 for columns ['fieldRA', 'fieldDec', 'fiveSigmaDepth']\n",
      "Found 18074 visits\n",
      "Running:  ['opsim_gs_coaddM5_r_and_seeingFwhmEff_lt_0_7_and_sunAlt_lt_-18_HEAL']\n",
      "Completed metric generation.\n",
      "Running reduce methods.\n",
      "Running summary statistics.\n",
      "Completed.\n",
      "monopole: 25.2973  dipole: lon: 139.525, lat: -52.378, amp: 0.374838\n",
      "Plotting complete.\n",
      "Deleted metricValues from memory.\n",
      "Querying database SummaryAllProps with constraint filter=\"z\" for columns ['fieldRA', 'fieldDec', 'fiveSigmaDepth']\n",
      "Found 448562 visits\n",
      "Running:  ['opsim_CoaddM5_z_HEAL']\n",
      "Completed metric generation.\n",
      "Running reduce methods.\n",
      "Running summary statistics.\n",
      "Completed.\n"
     ]
    },
    {
     "name": "stderr",
     "output_type": "stream",
     "text": [
      "/Users/yoachim/gitRepos/sims_maf/python/lsst/sims/maf/utils/mafUtils.py:58: UserWarning: Optimal bin calculation tried to make 242 bins, returning 200\n",
      "  warnings.warn('Optimal bin calculation tried to make %.0f bins, returning %i'%(nbins, nbinMax))\n"
     ]
    },
    {
     "name": "stdout",
     "output_type": "stream",
     "text": [
      "monopole: 25.2784  dipole: lon: 124.027, lat: -73.1456, amp: 0.428803\n",
      "Plotting complete.\n",
      "Deleted metricValues from memory.\n",
      "Querying database SummaryAllProps with constraint filter=\"u\" for columns ['fieldRA', 'fieldDec', 'fiveSigmaDepth']\n",
      "Found 141703 visits\n",
      "Running:  ['opsim_CoaddM5_u_HEAL']\n",
      "Completed metric generation.\n",
      "Running reduce methods.\n",
      "Running summary statistics.\n",
      "Completed.\n"
     ]
    },
    {
     "name": "stderr",
     "output_type": "stream",
     "text": [
      "/Users/yoachim/gitRepos/sims_maf/python/lsst/sims/maf/utils/mafUtils.py:58: UserWarning: Optimal bin calculation tried to make 552 bins, returning 200\n",
      "  warnings.warn('Optimal bin calculation tried to make %.0f bins, returning %i'%(nbins, nbinMax))\n"
     ]
    },
    {
     "name": "stdout",
     "output_type": "stream",
     "text": [
      "monopole: 25.6436  dipole: lon: 105.63, lat: -28.7874, amp: 0.209064\n",
      "Plotting complete.\n",
      "Deleted metricValues from memory.\n",
      "Querying database SummaryAllProps with constraint filter=\"i\" for columns ['fieldRA', 'fieldDec', 'fiveSigmaDepth']\n",
      "Found 481224 visits\n",
      "Running:  ['opsim_CoaddM5_i_HEAL']\n",
      "Completed metric generation.\n",
      "Running reduce methods.\n",
      "Running summary statistics.\n",
      "Completed.\n"
     ]
    },
    {
     "name": "stderr",
     "output_type": "stream",
     "text": [
      "/Users/yoachim/gitRepos/sims_maf/python/lsst/sims/maf/utils/mafUtils.py:58: UserWarning: Optimal bin calculation tried to make 242 bins, returning 200\n",
      "  warnings.warn('Optimal bin calculation tried to make %.0f bins, returning %i'%(nbins, nbinMax))\n"
     ]
    },
    {
     "name": "stdout",
     "output_type": "stream",
     "text": [
      "monopole: 26.0022  dipole: lon: 124.932, lat: -71.1614, amp: 0.404075\n",
      "Plotting complete.\n",
      "Deleted metricValues from memory.\n",
      "Querying database SummaryAllProps with constraint filter=\"g\" for columns ['fieldRA', 'fieldDec', 'fiveSigmaDepth']\n",
      "Found 207917 visits\n",
      "Running:  ['opsim_CoaddM5_g_HEAL']\n",
      "Completed metric generation.\n",
      "Running reduce methods.\n",
      "Running summary statistics.\n",
      "Completed.\n"
     ]
    },
    {
     "name": "stderr",
     "output_type": "stream",
     "text": [
      "/Users/yoachim/gitRepos/sims_maf/python/lsst/sims/maf/utils/mafUtils.py:58: UserWarning: Optimal bin calculation tried to make 234 bins, returning 200\n",
      "  warnings.warn('Optimal bin calculation tried to make %.0f bins, returning %i'%(nbins, nbinMax))\n"
     ]
    },
    {
     "name": "stdout",
     "output_type": "stream",
     "text": [
      "monopole: 26.4874  dipole: lon: 120.483, lat: -76.923, amp: 0.508106\n",
      "Plotting complete.\n",
      "Deleted metricValues from memory.\n",
      "Querying database SummaryAllProps with constraint filter=\"i\" and seeingFwhmEff <= 0.7 and sunAlt < -18 for columns ['fieldRA', 'fieldDec', 'fiveSigmaDepth']\n",
      "Found 44226 visits\n",
      "Running:  ['opsim_gs_coaddM5_i_and_seeingFwhmEff_lt_0_7_and_sunAlt_lt_-18_HEAL']\n",
      "Completed metric generation.\n",
      "Running reduce methods.\n",
      "Running summary statistics.\n",
      "Completed.\n",
      "monopole: 25.1419  dipole: lon: 140.974, lat: -42.7603, amp: 0.332637\n",
      "Plotting complete.\n",
      "Deleted metricValues from memory.\n",
      "Healpix slicer using NSIDE=128, approximate resolution 27.483891 arcminutes\n",
      "Healpix slicer using NSIDE=128, approximate resolution 27.483891 arcminutes\n",
      "Healpix slicer using NSIDE=128, approximate resolution 27.483891 arcminutes\n",
      "Healpix slicer using NSIDE=128, approximate resolution 27.483891 arcminutes\n",
      "Healpix slicer using NSIDE=128, approximate resolution 27.483891 arcminutes\n",
      "Healpix slicer using NSIDE=128, approximate resolution 27.483891 arcminutes\n",
      "Healpix slicer using NSIDE=128, approximate resolution 27.483891 arcminutes\n",
      "Healpix slicer using NSIDE=128, approximate resolution 27.483891 arcminutes\n",
      "Healpix slicer using NSIDE=128, approximate resolution 27.483891 arcminutes\n",
      "Healpix slicer using NSIDE=128, approximate resolution 27.483891 arcminutes\n",
      "Healpix slicer using NSIDE=128, approximate resolution 27.483891 arcminutes\n",
      "Healpix slicer using NSIDE=128, approximate resolution 27.483891 arcminutes\n",
      "Querying database SummaryAllProps with constraint filter=\"y\" for columns ['fieldRA', 'fieldDec', 'fiveSigmaDepth']\n",
      "Found 424206 visits\n",
      "Running:  ['opsim_CoaddM5_y_HEAL']\n",
      "Completed metric generation.\n",
      "Running reduce methods.\n",
      "Running summary statistics.\n",
      "Completed.\n"
     ]
    },
    {
     "name": "stderr",
     "output_type": "stream",
     "text": [
      "/Users/yoachim/gitRepos/sims_maf/python/lsst/sims/maf/utils/mafUtils.py:58: UserWarning: Optimal bin calculation tried to make 562 bins, returning 200\n",
      "  warnings.warn('Optimal bin calculation tried to make %.0f bins, returning %i'%(nbins, nbinMax))\n"
     ]
    },
    {
     "name": "stdout",
     "output_type": "stream",
     "text": [
      "monopole: 24.6923  dipole: lon: 111.602, lat: 0.433294, amp: 0.242678\n",
      "Plotting complete.\n",
      "Deleted metricValues from memory.\n",
      "Querying database SummaryAllProps with constraint filter=\"u\" and seeingFwhmEff <= 0.7 and sunAlt < -18 for columns ['fieldRA', 'fieldDec', 'fiveSigmaDepth']\n",
      "Found 1281 visits\n",
      "Running:  ['opsim_gs_coaddM5_u_and_seeingFwhmEff_lt_0_7_and_sunAlt_lt_-18_HEAL']\n",
      "Completed metric generation.\n",
      "Running reduce methods.\n",
      "Running summary statistics.\n",
      "Completed.\n",
      "monopole: 24.3029  dipole: lon: 92.3913, lat: -49.8683, amp: 0.0878936\n",
      "Plotting complete.\n",
      "Deleted metricValues from memory.\n",
      "Querying database SummaryAllProps with constraint filter=\"g\" and seeingFwhmEff <= 0.7 and sunAlt < -18 for columns ['fieldRA', 'fieldDec', 'fiveSigmaDepth']\n",
      "Found 8944 visits\n",
      "Running:  ['opsim_gs_coaddM5_g_and_seeingFwhmEff_lt_0_7_and_sunAlt_lt_-18_HEAL']\n",
      "Completed metric generation.\n",
      "Running reduce methods.\n",
      "Running summary statistics.\n",
      "Completed.\n",
      "monopole: 25.3715  dipole: lon: 100.136, lat: -11.7177, amp: 0.306278\n",
      "Plotting complete.\n",
      "Deleted metricValues from memory.\n",
      "Querying database SummaryAllProps with constraint filter=\"y\" and seeingFwhmEff <= 0.7 and sunAlt < -18 for columns ['fieldRA', 'fieldDec', 'fiveSigmaDepth']\n",
      "Found 28954 visits\n",
      "Running:  ['opsim_gs_coaddM5_y_and_seeingFwhmEff_lt_0_7_and_sunAlt_lt_-18_HEAL']\n",
      "Completed metric generation.\n",
      "Running reduce methods.\n",
      "Running summary statistics.\n",
      "Completed.\n",
      "monopole: 23.606  dipole: lon: 121.556, lat: -16.3786, amp: 0.374664\n",
      "Plotting complete.\n",
      "Deleted metricValues from memory.\n",
      "Querying database SummaryAllProps with constraint filter=\"r\" for columns ['fieldRA', 'fieldDec', 'fiveSigmaDepth']\n",
      "Found 473947 visits\n",
      "Running:  ['opsim_CoaddM5_r_HEAL']\n",
      "Completed metric generation.\n",
      "Running reduce methods.\n",
      "Running summary statistics.\n",
      "Completed.\n"
     ]
    },
    {
     "name": "stderr",
     "output_type": "stream",
     "text": [
      "/Users/yoachim/gitRepos/sims_maf/python/lsst/sims/maf/utils/mafUtils.py:58: UserWarning: Optimal bin calculation tried to make 230 bins, returning 200\n",
      "  warnings.warn('Optimal bin calculation tried to make %.0f bins, returning %i'%(nbins, nbinMax))\n"
     ]
    },
    {
     "name": "stdout",
     "output_type": "stream",
     "text": [
      "monopole: 26.4785  dipole: lon: 112.527, lat: -70.7942, amp: 0.422784\n",
      "Plotting complete.\n",
      "Deleted metricValues from memory.\n",
      "Querying database SummaryAllProps with constraint filter=\"z\" and seeingFwhmEff <= 0.7 and sunAlt < -18 for columns ['fieldRA', 'fieldDec', 'fiveSigmaDepth']\n",
      "Found 36685 visits\n",
      "Running:  ['opsim_gs_coaddM5_z_and_seeingFwhmEff_lt_0_7_and_sunAlt_lt_-18_HEAL']\n",
      "Completed metric generation.\n",
      "Running reduce methods.\n",
      "Running summary statistics.\n",
      "Completed.\n",
      "monopole: 24.3114  dipole: lon: 134.872, lat: -61.0312, amp: 0.606381\n",
      "Plotting complete.\n",
      "Deleted metricValues from memory.\n",
      "Querying database SummaryAllProps with constraint filter=\"r\" and seeingFwhmEff <= 0.7 and sunAlt < -18 for columns ['fieldRA', 'fieldDec', 'fiveSigmaDepth']\n",
      "Found 21601 visits\n",
      "Running:  ['opsim_gs_coaddM5_r_and_seeingFwhmEff_lt_0_7_and_sunAlt_lt_-18_HEAL']\n",
      "Completed metric generation.\n",
      "Running reduce methods.\n",
      "Running summary statistics.\n",
      "Completed.\n",
      "monopole: 25.2289  dipole: lon: 118.407, lat: -53.7469, amp: 0.439424\n",
      "Plotting complete.\n",
      "Deleted metricValues from memory.\n",
      "Querying database SummaryAllProps with constraint filter=\"z\" for columns ['fieldRA', 'fieldDec', 'fiveSigmaDepth']\n",
      "Found 449529 visits\n",
      "Running:  ['opsim_CoaddM5_z_HEAL']\n",
      "Completed metric generation.\n",
      "Running reduce methods.\n",
      "Running summary statistics.\n",
      "Completed.\n"
     ]
    },
    {
     "name": "stderr",
     "output_type": "stream",
     "text": [
      "/Users/yoachim/gitRepos/sims_maf/python/lsst/sims/maf/utils/mafUtils.py:58: UserWarning: Optimal bin calculation tried to make 244 bins, returning 200\n",
      "  warnings.warn('Optimal bin calculation tried to make %.0f bins, returning %i'%(nbins, nbinMax))\n"
     ]
    },
    {
     "name": "stdout",
     "output_type": "stream",
     "text": [
      "monopole: 25.2621  dipole: lon: 126.424, lat: -74.6647, amp: 0.482672\n",
      "Plotting complete.\n",
      "Deleted metricValues from memory.\n",
      "Querying database SummaryAllProps with constraint filter=\"u\" for columns ['fieldRA', 'fieldDec', 'fiveSigmaDepth']\n",
      "Found 142425 visits\n",
      "Running:  ['opsim_CoaddM5_u_HEAL']\n",
      "Completed metric generation.\n",
      "Running reduce methods.\n",
      "Running summary statistics.\n",
      "Completed.\n"
     ]
    },
    {
     "name": "stderr",
     "output_type": "stream",
     "text": [
      "/Users/yoachim/gitRepos/sims_maf/python/lsst/sims/maf/utils/mafUtils.py:58: UserWarning: Optimal bin calculation tried to make 521 bins, returning 200\n",
      "  warnings.warn('Optimal bin calculation tried to make %.0f bins, returning %i'%(nbins, nbinMax))\n"
     ]
    },
    {
     "name": "stdout",
     "output_type": "stream",
     "text": [
      "monopole: 25.6607  dipole: lon: 102.445, lat: -33.2606, amp: 0.211904\n",
      "Plotting complete.\n",
      "Deleted metricValues from memory.\n",
      "Querying database SummaryAllProps with constraint filter=\"i\" for columns ['fieldRA', 'fieldDec', 'fiveSigmaDepth']\n",
      "Found 477612 visits\n",
      "Running:  ['opsim_CoaddM5_i_HEAL']\n",
      "Completed metric generation.\n",
      "Running reduce methods.\n",
      "Running summary statistics.\n",
      "Completed.\n"
     ]
    },
    {
     "name": "stderr",
     "output_type": "stream",
     "text": [
      "/Users/yoachim/gitRepos/sims_maf/python/lsst/sims/maf/utils/mafUtils.py:58: UserWarning: Optimal bin calculation tried to make 232 bins, returning 200\n",
      "  warnings.warn('Optimal bin calculation tried to make %.0f bins, returning %i'%(nbins, nbinMax))\n"
     ]
    },
    {
     "name": "stdout",
     "output_type": "stream",
     "text": [
      "monopole: 25.9488  dipole: lon: 120.496, lat: -71.4811, amp: 0.421067\n",
      "Plotting complete.\n",
      "Deleted metricValues from memory.\n",
      "Querying database SummaryAllProps with constraint filter=\"g\" for columns ['fieldRA', 'fieldDec', 'fiveSigmaDepth']\n",
      "Found 208838 visits\n",
      "Running:  ['opsim_CoaddM5_g_HEAL']\n",
      "Completed metric generation.\n",
      "Running reduce methods.\n",
      "Running summary statistics.\n",
      "Completed.\n"
     ]
    },
    {
     "name": "stderr",
     "output_type": "stream",
     "text": [
      "/Users/yoachim/gitRepos/sims_maf/python/lsst/sims/maf/utils/mafUtils.py:58: UserWarning: Optimal bin calculation tried to make 308 bins, returning 200\n",
      "  warnings.warn('Optimal bin calculation tried to make %.0f bins, returning %i'%(nbins, nbinMax))\n"
     ]
    },
    {
     "name": "stdout",
     "output_type": "stream",
     "text": [
      "monopole: 26.5306  dipole: lon: 118.029, lat: -77.5919, amp: 0.492168\n",
      "Plotting complete.\n",
      "Deleted metricValues from memory.\n",
      "Querying database SummaryAllProps with constraint filter=\"i\" and seeingFwhmEff <= 0.7 and sunAlt < -18 for columns ['fieldRA', 'fieldDec', 'fiveSigmaDepth']\n",
      "Found 28494 visits\n",
      "Running:  ['opsim_gs_coaddM5_i_and_seeingFwhmEff_lt_0_7_and_sunAlt_lt_-18_HEAL']\n",
      "Completed metric generation.\n",
      "Running reduce methods.\n",
      "Running summary statistics.\n",
      "Completed.\n",
      "monopole: 24.8006  dipole: lon: 126.118, lat: -55.651, amp: 0.565546\n",
      "Plotting complete.\n",
      "Deleted metricValues from memory.\n",
      "Healpix slicer using NSIDE=128, approximate resolution 27.483891 arcminutes\n",
      "Healpix slicer using NSIDE=128, approximate resolution 27.483891 arcminutes\n",
      "Healpix slicer using NSIDE=128, approximate resolution 27.483891 arcminutes\n",
      "Healpix slicer using NSIDE=128, approximate resolution 27.483891 arcminutes\n",
      "Healpix slicer using NSIDE=128, approximate resolution 27.483891 arcminutes\n",
      "Healpix slicer using NSIDE=128, approximate resolution 27.483891 arcminutes\n",
      "Healpix slicer using NSIDE=128, approximate resolution 27.483891 arcminutes\n",
      "Healpix slicer using NSIDE=128, approximate resolution 27.483891 arcminutes\n",
      "Healpix slicer using NSIDE=128, approximate resolution 27.483891 arcminutes\n",
      "Healpix slicer using NSIDE=128, approximate resolution 27.483891 arcminutes\n",
      "Healpix slicer using NSIDE=128, approximate resolution 27.483891 arcminutes\n",
      "Healpix slicer using NSIDE=128, approximate resolution 27.483891 arcminutes\n",
      "Querying database SummaryAllProps with constraint filter=\"y\" for columns ['fieldRA', 'fieldDec', 'fiveSigmaDepth']\n",
      "Found 424450 visits\n",
      "Running:  ['opsim_CoaddM5_y_HEAL']\n",
      "Completed metric generation.\n",
      "Running reduce methods.\n",
      "Running summary statistics.\n",
      "Completed.\n"
     ]
    },
    {
     "name": "stderr",
     "output_type": "stream",
     "text": [
      "/Users/yoachim/gitRepos/sims_maf/python/lsst/sims/maf/utils/mafUtils.py:58: UserWarning: Optimal bin calculation tried to make 577 bins, returning 200\n",
      "  warnings.warn('Optimal bin calculation tried to make %.0f bins, returning %i'%(nbins, nbinMax))\n"
     ]
    },
    {
     "name": "stdout",
     "output_type": "stream",
     "text": [
      "monopole: 24.6767  dipole: lon: 111.773, lat: 1.21143, amp: 0.245041\n",
      "Plotting complete.\n",
      "Deleted metricValues from memory.\n",
      "Querying database SummaryAllProps with constraint filter=\"u\" and seeingFwhmEff <= 0.7 and sunAlt < -18 for columns ['fieldRA', 'fieldDec', 'fiveSigmaDepth']\n",
      "Found 1079 visits\n",
      "Running:  ['opsim_gs_coaddM5_u_and_seeingFwhmEff_lt_0_7_and_sunAlt_lt_-18_HEAL']\n",
      "Completed metric generation.\n",
      "Running reduce methods.\n",
      "Running summary statistics.\n",
      "Completed.\n",
      "monopole: 24.2822  dipole: lon: 54.3337, lat: -61.3575, amp: 0.158667\n",
      "Plotting complete.\n",
      "Deleted metricValues from memory.\n",
      "Querying database SummaryAllProps with constraint filter=\"g\" and seeingFwhmEff <= 0.7 and sunAlt < -18 for columns ['fieldRA', 'fieldDec', 'fiveSigmaDepth']\n",
      "Found 11704 visits\n",
      "Running:  ['opsim_gs_coaddM5_g_and_seeingFwhmEff_lt_0_7_and_sunAlt_lt_-18_HEAL']\n",
      "Completed metric generation.\n",
      "Running reduce methods.\n",
      "Running summary statistics.\n",
      "Completed.\n",
      "monopole: 25.3574  dipole: lon: 107.088, lat: -41.7766, amp: 0.444387\n",
      "Plotting complete.\n",
      "Deleted metricValues from memory.\n",
      "Querying database SummaryAllProps with constraint filter=\"y\" and seeingFwhmEff <= 0.7 and sunAlt < -18 for columns ['fieldRA', 'fieldDec', 'fiveSigmaDepth']\n",
      "Found 25844 visits\n",
      "Running:  ['opsim_gs_coaddM5_y_and_seeingFwhmEff_lt_0_7_and_sunAlt_lt_-18_HEAL']\n",
      "Completed metric generation.\n",
      "Running reduce methods.\n",
      "Running summary statistics.\n",
      "Completed.\n",
      "monopole: 23.511  dipole: lon: 122.604, lat: -14.2788, amp: 0.431671\n",
      "Plotting complete.\n",
      "Deleted metricValues from memory.\n",
      "Querying database SummaryAllProps with constraint filter=\"r\" for columns ['fieldRA', 'fieldDec', 'fiveSigmaDepth']\n",
      "Found 473135 visits\n",
      "Running:  ['opsim_CoaddM5_r_HEAL']\n",
      "Completed metric generation.\n",
      "Running reduce methods.\n",
      "Running summary statistics.\n",
      "Completed.\n"
     ]
    },
    {
     "name": "stderr",
     "output_type": "stream",
     "text": [
      "/Users/yoachim/gitRepos/sims_maf/python/lsst/sims/maf/utils/mafUtils.py:58: UserWarning: Optimal bin calculation tried to make 230 bins, returning 200\n",
      "  warnings.warn('Optimal bin calculation tried to make %.0f bins, returning %i'%(nbins, nbinMax))\n"
     ]
    },
    {
     "name": "stdout",
     "output_type": "stream",
     "text": [
      "monopole: 26.4662  dipole: lon: 114.341, lat: -71.1989, amp: 0.430632\n",
      "Plotting complete.\n",
      "Deleted metricValues from memory.\n",
      "Querying database SummaryAllProps with constraint filter=\"z\" and seeingFwhmEff <= 0.7 and sunAlt < -18 for columns ['fieldRA', 'fieldDec', 'fiveSigmaDepth']\n",
      "Found 39172 visits\n",
      "Running:  ['opsim_gs_coaddM5_z_and_seeingFwhmEff_lt_0_7_and_sunAlt_lt_-18_HEAL']\n",
      "Completed metric generation.\n",
      "Running reduce methods.\n",
      "Running summary statistics.\n",
      "Completed.\n",
      "monopole: 24.4048  dipole: lon: 140.101, lat: -56.3644, amp: 0.46891\n",
      "Plotting complete.\n",
      "Deleted metricValues from memory.\n",
      "Querying database SummaryAllProps with constraint filter=\"r\" and seeingFwhmEff <= 0.7 and sunAlt < -18 for columns ['fieldRA', 'fieldDec', 'fiveSigmaDepth']\n",
      "Found 18916 visits\n",
      "Running:  ['opsim_gs_coaddM5_r_and_seeingFwhmEff_lt_0_7_and_sunAlt_lt_-18_HEAL']\n",
      "Completed metric generation.\n",
      "Running reduce methods.\n",
      "Running summary statistics.\n",
      "Completed.\n",
      "monopole: 25.1735  dipole: lon: 127.558, lat: -46.6013, amp: 0.449738\n",
      "Plotting complete.\n",
      "Deleted metricValues from memory.\n",
      "Querying database SummaryAllProps with constraint filter=\"z\" for columns ['fieldRA', 'fieldDec', 'fiveSigmaDepth']\n",
      "Found 449365 visits\n",
      "Running:  ['opsim_CoaddM5_z_HEAL']\n",
      "Completed metric generation.\n",
      "Running reduce methods.\n",
      "Running summary statistics.\n",
      "Completed.\n"
     ]
    },
    {
     "name": "stderr",
     "output_type": "stream",
     "text": [
      "/Users/yoachim/gitRepos/sims_maf/python/lsst/sims/maf/utils/mafUtils.py:58: UserWarning: Optimal bin calculation tried to make 228 bins, returning 200\n",
      "  warnings.warn('Optimal bin calculation tried to make %.0f bins, returning %i'%(nbins, nbinMax))\n"
     ]
    },
    {
     "name": "stdout",
     "output_type": "stream",
     "text": [
      "monopole: 25.2866  dipole: lon: 128.221, lat: -73.7309, amp: 0.452305\n",
      "Plotting complete.\n",
      "Deleted metricValues from memory.\n",
      "Querying database SummaryAllProps with constraint filter=\"u\" for columns ['fieldRA', 'fieldDec', 'fiveSigmaDepth']\n",
      "Found 142450 visits\n",
      "Running:  ['opsim_CoaddM5_u_HEAL']\n",
      "Completed metric generation.\n",
      "Running reduce methods.\n",
      "Running summary statistics.\n",
      "Completed.\n"
     ]
    },
    {
     "name": "stderr",
     "output_type": "stream",
     "text": [
      "/Users/yoachim/gitRepos/sims_maf/python/lsst/sims/maf/utils/mafUtils.py:58: UserWarning: Optimal bin calculation tried to make 559 bins, returning 200\n",
      "  warnings.warn('Optimal bin calculation tried to make %.0f bins, returning %i'%(nbins, nbinMax))\n"
     ]
    },
    {
     "name": "stdout",
     "output_type": "stream",
     "text": [
      "monopole: 25.6575  dipole: lon: 106.16, lat: -32.0921, amp: 0.222878\n",
      "Plotting complete.\n",
      "Deleted metricValues from memory.\n",
      "Querying database SummaryAllProps with constraint filter=\"i\" for columns ['fieldRA', 'fieldDec', 'fiveSigmaDepth']\n",
      "Found 478536 visits\n",
      "Running:  ['opsim_CoaddM5_i_HEAL']\n",
      "Completed metric generation.\n",
      "Running reduce methods.\n",
      "Running summary statistics.\n",
      "Completed.\n"
     ]
    },
    {
     "name": "stderr",
     "output_type": "stream",
     "text": [
      "/Users/yoachim/gitRepos/sims_maf/python/lsst/sims/maf/utils/mafUtils.py:58: UserWarning: Optimal bin calculation tried to make 238 bins, returning 200\n",
      "  warnings.warn('Optimal bin calculation tried to make %.0f bins, returning %i'%(nbins, nbinMax))\n"
     ]
    },
    {
     "name": "stdout",
     "output_type": "stream",
     "text": [
      "monopole: 25.9683  dipole: lon: 123.705, lat: -70.8481, amp: 0.401563\n",
      "Plotting complete.\n",
      "Deleted metricValues from memory.\n",
      "Querying database SummaryAllProps with constraint filter=\"g\" for columns ['fieldRA', 'fieldDec', 'fiveSigmaDepth']\n",
      "Found 210331 visits\n",
      "Running:  ['opsim_CoaddM5_g_HEAL']\n",
      "Completed metric generation.\n",
      "Running reduce methods.\n",
      "Running summary statistics.\n",
      "Completed.\n"
     ]
    },
    {
     "name": "stderr",
     "output_type": "stream",
     "text": [
      "/Users/yoachim/gitRepos/sims_maf/python/lsst/sims/maf/utils/mafUtils.py:58: UserWarning: Optimal bin calculation tried to make 267 bins, returning 200\n",
      "  warnings.warn('Optimal bin calculation tried to make %.0f bins, returning %i'%(nbins, nbinMax))\n"
     ]
    },
    {
     "name": "stdout",
     "output_type": "stream",
     "text": [
      "monopole: 26.5225  dipole: lon: 117.411, lat: -77.8915, amp: 0.520616\n",
      "Plotting complete.\n",
      "Deleted metricValues from memory.\n",
      "Querying database SummaryAllProps with constraint filter=\"i\" and seeingFwhmEff <= 0.7 and sunAlt < -18 for columns ['fieldRA', 'fieldDec', 'fiveSigmaDepth']\n",
      "Found 26269 visits\n",
      "Running:  ['opsim_gs_coaddM5_i_and_seeingFwhmEff_lt_0_7_and_sunAlt_lt_-18_HEAL']\n",
      "Completed metric generation.\n",
      "Running reduce methods.\n",
      "Running summary statistics.\n",
      "Completed.\n",
      "monopole: 24.8242  dipole: lon: 146.374, lat: -53.1464, amp: 0.454795\n",
      "Plotting complete.\n",
      "Deleted metricValues from memory.\n",
      "Healpix slicer using NSIDE=128, approximate resolution 27.483891 arcminutes\n",
      "Healpix slicer using NSIDE=128, approximate resolution 27.483891 arcminutes\n",
      "Healpix slicer using NSIDE=128, approximate resolution 27.483891 arcminutes\n",
      "Healpix slicer using NSIDE=128, approximate resolution 27.483891 arcminutes\n",
      "Healpix slicer using NSIDE=128, approximate resolution 27.483891 arcminutes\n",
      "Healpix slicer using NSIDE=128, approximate resolution 27.483891 arcminutes\n",
      "Healpix slicer using NSIDE=128, approximate resolution 27.483891 arcminutes\n",
      "Healpix slicer using NSIDE=128, approximate resolution 27.483891 arcminutes\n",
      "Healpix slicer using NSIDE=128, approximate resolution 27.483891 arcminutes\n",
      "Healpix slicer using NSIDE=128, approximate resolution 27.483891 arcminutes\n",
      "Healpix slicer using NSIDE=128, approximate resolution 27.483891 arcminutes\n",
      "Healpix slicer using NSIDE=128, approximate resolution 27.483891 arcminutes\n",
      "Querying database SummaryAllProps with constraint filter=\"y\" for columns ['fieldRA', 'fieldDec', 'fiveSigmaDepth']\n",
      "Found 423674 visits\n",
      "Running:  ['opsim_CoaddM5_y_HEAL']\n",
      "Completed metric generation.\n",
      "Running reduce methods.\n",
      "Running summary statistics.\n",
      "Completed.\n"
     ]
    },
    {
     "name": "stderr",
     "output_type": "stream",
     "text": [
      "/Users/yoachim/gitRepos/sims_maf/python/lsst/sims/maf/utils/mafUtils.py:58: UserWarning: Optimal bin calculation tried to make 566 bins, returning 200\n",
      "  warnings.warn('Optimal bin calculation tried to make %.0f bins, returning %i'%(nbins, nbinMax))\n"
     ]
    },
    {
     "name": "stdout",
     "output_type": "stream",
     "text": [
      "monopole: 24.6621  dipole: lon: 112.368, lat: 0.151093, amp: 0.242896\n",
      "Plotting complete.\n",
      "Deleted metricValues from memory.\n",
      "Querying database SummaryAllProps with constraint filter=\"u\" and seeingFwhmEff <= 0.7 and sunAlt < -18 for columns ['fieldRA', 'fieldDec', 'fiveSigmaDepth']\n",
      "Found 1442 visits\n",
      "Running:  ['opsim_gs_coaddM5_u_and_seeingFwhmEff_lt_0_7_and_sunAlt_lt_-18_HEAL']\n",
      "Completed metric generation.\n",
      "Running reduce methods.\n",
      "Running summary statistics.\n",
      "Completed.\n",
      "monopole: 24.3891  dipole: lon: 65.9669, lat: 46.2884, amp: 0.068281\n",
      "Plotting complete.\n",
      "Deleted metricValues from memory.\n",
      "Querying database SummaryAllProps with constraint filter=\"g\" and seeingFwhmEff <= 0.7 and sunAlt < -18 for columns ['fieldRA', 'fieldDec', 'fiveSigmaDepth']\n",
      "Found 9502 visits\n",
      "Running:  ['opsim_gs_coaddM5_g_and_seeingFwhmEff_lt_0_7_and_sunAlt_lt_-18_HEAL']\n",
      "Completed metric generation.\n",
      "Running reduce methods.\n",
      "Running summary statistics.\n",
      "Completed.\n",
      "monopole: 25.315  dipole: lon: 106.945, lat: -44.9109, amp: 0.437013\n",
      "Plotting complete.\n",
      "Deleted metricValues from memory.\n",
      "Querying database SummaryAllProps with constraint filter=\"y\" and seeingFwhmEff <= 0.7 and sunAlt < -18 for columns ['fieldRA', 'fieldDec', 'fiveSigmaDepth']\n",
      "Found 19315 visits\n",
      "Running:  ['opsim_gs_coaddM5_y_and_seeingFwhmEff_lt_0_7_and_sunAlt_lt_-18_HEAL']\n",
      "Completed metric generation.\n",
      "Running reduce methods.\n",
      "Running summary statistics.\n",
      "Completed.\n",
      "monopole: 23.3038  dipole: lon: 128.087, lat: -24.2769, amp: 0.421653\n",
      "Plotting complete.\n",
      "Deleted metricValues from memory.\n",
      "Querying database SummaryAllProps with constraint filter=\"r\" for columns ['fieldRA', 'fieldDec', 'fiveSigmaDepth']\n",
      "Found 475097 visits\n",
      "Running:  ['opsim_CoaddM5_r_HEAL']\n",
      "Completed metric generation.\n",
      "Running reduce methods.\n",
      "Running summary statistics.\n",
      "Completed.\n"
     ]
    },
    {
     "name": "stderr",
     "output_type": "stream",
     "text": [
      "/Users/yoachim/gitRepos/sims_maf/python/lsst/sims/maf/utils/mafUtils.py:58: UserWarning: Optimal bin calculation tried to make 224 bins, returning 200\n",
      "  warnings.warn('Optimal bin calculation tried to make %.0f bins, returning %i'%(nbins, nbinMax))\n"
     ]
    },
    {
     "name": "stdout",
     "output_type": "stream",
     "text": [
      "monopole: 26.4769  dipole: lon: 112.532, lat: -71.8815, amp: 0.449927\n",
      "Plotting complete.\n",
      "Deleted metricValues from memory.\n",
      "Querying database SummaryAllProps with constraint filter=\"z\" and seeingFwhmEff <= 0.7 and sunAlt < -18 for columns ['fieldRA', 'fieldDec', 'fiveSigmaDepth']\n",
      "Found 31897 visits\n",
      "Running:  ['opsim_gs_coaddM5_z_and_seeingFwhmEff_lt_0_7_and_sunAlt_lt_-18_HEAL']\n",
      "Completed metric generation.\n",
      "Running reduce methods.\n",
      "Running summary statistics.\n",
      "Completed.\n",
      "monopole: 24.2078  dipole: lon: 134.995, lat: -61.8444, amp: 0.616861\n",
      "Plotting complete.\n",
      "Deleted metricValues from memory.\n",
      "Querying database SummaryAllProps with constraint filter=\"r\" and seeingFwhmEff <= 0.7 and sunAlt < -18 for columns ['fieldRA', 'fieldDec', 'fiveSigmaDepth']\n",
      "Found 24328 visits\n",
      "Running:  ['opsim_gs_coaddM5_r_and_seeingFwhmEff_lt_0_7_and_sunAlt_lt_-18_HEAL']\n",
      "Completed metric generation.\n",
      "Running reduce methods.\n",
      "Running summary statistics.\n",
      "Completed.\n",
      "monopole: 25.2782  dipole: lon: 114.564, lat: -53.7119, amp: 0.435649\n",
      "Plotting complete.\n",
      "Deleted metricValues from memory.\n",
      "Querying database SummaryAllProps with constraint filter=\"z\" for columns ['fieldRA', 'fieldDec', 'fiveSigmaDepth']\n",
      "Found 448147 visits\n",
      "Running:  ['opsim_CoaddM5_z_HEAL']\n",
      "Completed metric generation.\n",
      "Running reduce methods.\n",
      "Running summary statistics.\n",
      "Completed.\n"
     ]
    },
    {
     "name": "stderr",
     "output_type": "stream",
     "text": [
      "/Users/yoachim/gitRepos/sims_maf/python/lsst/sims/maf/utils/mafUtils.py:58: UserWarning: Optimal bin calculation tried to make 232 bins, returning 200\n",
      "  warnings.warn('Optimal bin calculation tried to make %.0f bins, returning %i'%(nbins, nbinMax))\n"
     ]
    },
    {
     "name": "stdout",
     "output_type": "stream",
     "text": [
      "monopole: 25.2637  dipole: lon: 124.586, lat: -73.0557, amp: 0.442195\n",
      "Plotting complete.\n",
      "Deleted metricValues from memory.\n",
      "Querying database SummaryAllProps with constraint filter=\"u\" for columns ['fieldRA', 'fieldDec', 'fiveSigmaDepth']\n",
      "Found 142326 visits\n",
      "Running:  ['opsim_CoaddM5_u_HEAL']\n",
      "Completed metric generation.\n",
      "Running reduce methods.\n",
      "Running summary statistics.\n",
      "Completed.\n"
     ]
    },
    {
     "name": "stderr",
     "output_type": "stream",
     "text": [
      "/Users/yoachim/gitRepos/sims_maf/python/lsst/sims/maf/utils/mafUtils.py:58: UserWarning: Optimal bin calculation tried to make 568 bins, returning 200\n",
      "  warnings.warn('Optimal bin calculation tried to make %.0f bins, returning %i'%(nbins, nbinMax))\n"
     ]
    },
    {
     "name": "stdout",
     "output_type": "stream",
     "text": [
      "monopole: 25.6646  dipole: lon: 104.61, lat: -33.7605, amp: 0.209711\n",
      "Plotting complete.\n",
      "Deleted metricValues from memory.\n",
      "Querying database SummaryAllProps with constraint filter=\"i\" for columns ['fieldRA', 'fieldDec', 'fiveSigmaDepth']\n",
      "Found 479503 visits\n",
      "Running:  ['opsim_CoaddM5_i_HEAL']\n",
      "Completed metric generation.\n",
      "Running reduce methods.\n",
      "Running summary statistics.\n",
      "Completed.\n"
     ]
    },
    {
     "name": "stderr",
     "output_type": "stream",
     "text": [
      "/Users/yoachim/gitRepos/sims_maf/python/lsst/sims/maf/utils/mafUtils.py:58: UserWarning: Optimal bin calculation tried to make 228 bins, returning 200\n",
      "  warnings.warn('Optimal bin calculation tried to make %.0f bins, returning %i'%(nbins, nbinMax))\n"
     ]
    },
    {
     "name": "stdout",
     "output_type": "stream",
     "text": [
      "monopole: 25.957  dipole: lon: 120.409, lat: -70.9552, amp: 0.425732\n",
      "Plotting complete.\n",
      "Deleted metricValues from memory.\n",
      "Querying database SummaryAllProps with constraint filter=\"g\" for columns ['fieldRA', 'fieldDec', 'fiveSigmaDepth']\n",
      "Found 210545 visits\n",
      "Running:  ['opsim_CoaddM5_g_HEAL']\n",
      "Completed metric generation.\n",
      "Running reduce methods.\n",
      "Running summary statistics.\n",
      "Completed.\n"
     ]
    },
    {
     "name": "stderr",
     "output_type": "stream",
     "text": [
      "/Users/yoachim/gitRepos/sims_maf/python/lsst/sims/maf/utils/mafUtils.py:58: UserWarning: Optimal bin calculation tried to make 267 bins, returning 200\n",
      "  warnings.warn('Optimal bin calculation tried to make %.0f bins, returning %i'%(nbins, nbinMax))\n"
     ]
    },
    {
     "name": "stdout",
     "output_type": "stream",
     "text": [
      "monopole: 26.5304  dipole: lon: 117.653, lat: -78.4876, amp: 0.520993\n",
      "Plotting complete.\n",
      "Deleted metricValues from memory.\n",
      "Querying database SummaryAllProps with constraint filter=\"i\" and seeingFwhmEff <= 0.7 and sunAlt < -18 for columns ['fieldRA', 'fieldDec', 'fiveSigmaDepth']\n",
      "Found 32457 visits\n",
      "Running:  ['opsim_gs_coaddM5_i_and_seeingFwhmEff_lt_0_7_and_sunAlt_lt_-18_HEAL']\n",
      "Completed metric generation.\n",
      "Running reduce methods.\n",
      "Running summary statistics.\n",
      "Completed.\n",
      "monopole: 24.7689  dipole: lon: 128.355, lat: -66.9504, amp: 0.703993\n",
      "Plotting complete.\n",
      "Deleted metricValues from memory.\n"
     ]
    }
   ],
   "source": [
    "files = glob.glob('*10yrs.db')\n",
    "for dbFile in files:\n",
    "    # This connection checks which version it thinks the database is and should do the right thing schema-wise\n",
    "    conn = db.OpsimDatabase(dbFile)\n",
    "    outDir='gs_' + dbFile[:-3]\n",
    "    resultsDb = db.ResultsDb(outDir=outDir)\n",
    "\n",
    "    bundleList = []\n",
    "    plotDict = {}\n",
    "    for filtername in 'ugrizy':\n",
    "        sql = 'filter=\"%s\"' % filtername\n",
    "        metric = metrics.Coaddm5Metric()\n",
    "        slicer = slicers.HealpixSlicer()\n",
    "        #plotDict = {'colorMax': 27.4}\n",
    "        bundleList.append(metricBundles.MetricBundle(metric,slicer,sql, plotDict=plotDict))\n",
    "\n",
    "        sql = 'filter=\"%s\" and seeingFwhmEff <= 0.7 and sunAlt < -18' % filtername\n",
    "        metric = metrics.Coaddm5Metric(metricName='gs_coaddM5')\n",
    "        slicer = slicers.HealpixSlicer()\n",
    "        #plotDict = {'colorMax': 27.4}\n",
    "        bundleList.append(metricBundles.MetricBundle(metric,slicer,sql, plotDict=plotDict))\n",
    "    bd = metricBundles.makeBundlesDictFromList(bundleList)\n",
    "    bg = metricBundles.MetricBundleGroup(bd, conn, outDir=outDir, resultsDb=resultsDb)\n",
    "    bg.runAll(clearMemory=True, plotNow=True)\n"
   ]
  },
  {
   "cell_type": "code",
   "execution_count": null,
   "metadata": {},
   "outputs": [],
   "source": []
  },
  {
   "cell_type": "code",
   "execution_count": null,
   "metadata": {},
   "outputs": [],
   "source": []
  },
  {
   "cell_type": "code",
   "execution_count": null,
   "metadata": {},
   "outputs": [],
   "source": []
  }
 ],
 "metadata": {
  "kernelspec": {
   "display_name": "Python 3",
   "language": "python",
   "name": "python3"
  },
  "language_info": {
   "codemirror_mode": {
    "name": "ipython",
    "version": 3
   },
   "file_extension": ".py",
   "mimetype": "text/x-python",
   "name": "python",
   "nbconvert_exporter": "python",
   "pygments_lexer": "ipython3",
   "version": "3.6.2"
  }
 },
 "nbformat": 4,
 "nbformat_minor": 2
}
